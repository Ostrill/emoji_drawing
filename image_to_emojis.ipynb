{
 "cells": [
  {
   "cell_type": "markdown",
   "id": "49700b2f-594b-4b4b-a3cb-8e9c756ee776",
   "metadata": {},
   "source": [
    "# Импорт библиотек"
   ]
  },
  {
   "cell_type": "code",
   "execution_count": 49,
   "id": "409124eb-7577-4ce5-9191-538a78598f36",
   "metadata": {},
   "outputs": [],
   "source": [
    "import numpy as np\n",
    "from PIL import Image, ImageFont\n",
    "from pilmoji import Pilmoji\n",
    "import matplotlib.pyplot as plt\n",
    "%matplotlib inline\n",
    "import pickle"
   ]
  },
  {
   "cell_type": "markdown",
   "id": "cd53ced5-6916-42b6-9d59-c5762c34a4ad",
   "metadata": {},
   "source": [
    "# Методы для рисования"
   ]
  },
  {
   "cell_type": "code",
   "execution_count": 2,
   "id": "b6f5c0ea-17f9-49c5-a01d-1b89a8d095e0",
   "metadata": {},
   "outputs": [],
   "source": [
    "def color_diff(rgb1, rgb2):\n",
    "    \"\"\"Расстояние между двумя цветами\"\"\"\n",
    "    return np.linalg.norm(rgb1 - rgb2)"
   ]
  },
  {
   "cell_type": "code",
   "execution_count": 3,
   "id": "ca42a1f8-bc4e-4871-8621-0c7af6924535",
   "metadata": {},
   "outputs": [],
   "source": [
    "def nearest_emoji(rgb, emoji_dict):\n",
    "    \"\"\"Найти ближайший по цвету смайлик\"\"\"\n",
    "    return min(emoji_dict.keys(), \n",
    "               key=lambda k: color_diff(rgb, emoji_dict[k]))"
   ]
  },
  {
   "cell_type": "code",
   "execution_count": 42,
   "id": "747ac8ba-edb4-41f1-a85f-60b79a69a093",
   "metadata": {},
   "outputs": [],
   "source": [
    "def compare_images(image1, image2):\n",
    "    \"\"\"Посмотреть две картинки рядом\"\"\"\n",
    "    fig, axes = plt.subplots(ncols=2, dpi=200)\n",
    "    for ax, img in zip(axes, (image1, image2)):\n",
    "        ax.imshow(img)\n",
    "        ax.set_xticks([]); ax.set_yticks([])\n",
    "    plt.tight_layout()\n",
    "    plt.show()"
   ]
  },
  {
   "cell_type": "code",
   "execution_count": 43,
   "id": "3909d737-f5e1-4c87-ad42-05d2757d7eed",
   "metadata": {},
   "outputs": [],
   "source": [
    "def draw_emojis(filename, width, emoji_dict, disp=True):\n",
    "    \"\"\"\n",
    "    Нарисовать картинку из смайликов-квадратов\n",
    "\n",
    "    PARAMETERS\n",
    "    ----------\n",
    "    filename : str\n",
    "        | название файла картинки, лежащей в папке input/, \n",
    "          которую необходимо нарисовать в виде смайликов\n",
    "    \n",
    "    width : int\n",
    "        | ширина итоговой картинки из смайликов\n",
    "\n",
    "    emoji_dict : dict\n",
    "        | специальный словарь смайликов, где каждому\n",
    "          смайлику соответствует назначенный ему цвет\n",
    "          в формате numpy-массива из трех значений (RGB)\n",
    "    \n",
    "    disp : bool\n",
    "        | отображать ли результат и логи\n",
    "    \n",
    "    RETURNS\n",
    "    -------\n",
    "    emoji_array : ndarray[str]\n",
    "        | картинка из смайликов в виде numpy-массива\n",
    "    \"\"\"\n",
    "    # Загрузка картинки и преобразование в numpy array\n",
    "    image = np.array(Image.open(f'input/{filename}'))\n",
    "    # Сохранение только трех каналов под R, G, B\n",
    "    image = image[:, :, :3]\n",
    "    \n",
    "    # Размеры картинки\n",
    "    img_h, img_w, _ = image.shape\n",
    "    # Размер блока, который заменится смайликом\n",
    "    block_size = img_w // width\n",
    "    \n",
    "    # Размеры картины из смайликов\n",
    "    w_quantity = width\n",
    "    h_quantity = int(img_h / img_w * w_quantity)\n",
    "    \n",
    "    # Вывод размеров картинки\n",
    "    if disp:\n",
    "        print(f'Исходная картинка: {img_h}x{img_w}')\n",
    "        print(f'Из смайликов:      {h_quantity}x{w_quantity}')\n",
    "    \n",
    "    # Уменьшенная версия картинки (сжатая)\n",
    "    small_image = np.zeros((h_quantity, w_quantity, 3), dtype=int)\n",
    "    # Ближайшая по цветам к смайликам версия картинки\n",
    "    emoji_image = np.zeros((h_quantity, w_quantity, 3), dtype=int)\n",
    "    # Массив из смайликов\n",
    "    emoji_array = np.full((h_quantity, w_quantity), '')\n",
    "\n",
    "    # i, j - индексы в сжатой картинке\n",
    "    # h, w - соответствующие индексы в оригинальной картинке\n",
    "    for i in range(h_quantity):\n",
    "        for j in range(w_quantity):\n",
    "            h = i * block_size\n",
    "            w = j * block_size\n",
    "            # Средний цвет по блоку\n",
    "            avg_color = image[h:h+block_size, w:w+block_size].mean(axis=(0, 1))\n",
    "            # Добавление нового смайлика в массив\n",
    "            emoji = nearest_emoji(avg_color, emoji_dict)\n",
    "            emoji_array[i, j] = emoji\n",
    "            # Запись пикселя со средним цветом в уменьшенные картинки\n",
    "            small_image[i, j] = np.rint(avg_color)\n",
    "            emoji_image[i, j] = np.rint(emoji_dict[emoji])\n",
    "    \n",
    "    # Вывод результатов\n",
    "    if disp:\n",
    "        compare_images(small_image, emoji_image)\n",
    "\n",
    "    return emoji_array"
   ]
  },
  {
   "cell_type": "code",
   "execution_count": 6,
   "id": "0153b806-ee50-40ce-8b6a-9eee86edbb0c",
   "metadata": {},
   "outputs": [],
   "source": [
    "def load_emoji_dict(name):\n",
    "    \"\"\"\n",
    "    Загрузить словарь смайликов из папки emoji_dicts/\n",
    "    по его названию\n",
    "    \"\"\"\n",
    "    with open(f'emoji_dicts/{name}.pkl', 'rb') as file:\n",
    "        emoji_dict = pickle.load(file)\n",
    "    return emoji_dict"
   ]
  },
  {
   "cell_type": "code",
   "execution_count": 40,
   "id": "ff511672-9822-45b9-87c5-7dabf2b49e61",
   "metadata": {},
   "outputs": [],
   "source": [
    "def save_as_text(emoji_array, image_name):\n",
    "    \"\"\"\n",
    "    Сохранить результат (массив смайликов) в файл\n",
    "    в виде текста\n",
    "\n",
    "    PARAMETERS\n",
    "    ----------\n",
    "    emoji_array : ndarray[str]\n",
    "        | 2D numpy-массив из смайликов\n",
    "    \n",
    "    image_name : str\n",
    "        | название картинки, текстовый файл для \n",
    "          которой будет сохранен в папку output/\n",
    "    \"\"\"\n",
    "    with open(f'output/{image_name}.txt', 'w') as file:\n",
    "        as_string = '\\n'.join(''.join(line) \n",
    "                              for line in emoji_array)\n",
    "        file.write(as_string)"
   ]
  },
  {
   "cell_type": "code",
   "execution_count": 57,
   "id": "3a642176-2ace-486c-b4d0-718474c2e0e4",
   "metadata": {},
   "outputs": [],
   "source": [
    "def save_as_image(emoji_array, image_name, emoji_resolution, \n",
    "                  background_color=(0, 0, 0)):\n",
    "    \"\"\"\n",
    "    Сохранить результат (массив смайликов) в файл\n",
    "    в виде картинки формата PNG\n",
    "\n",
    "    PARAMETERS\n",
    "    ----------\n",
    "    emoji_array : ndarray[str]\n",
    "        | 2D numpy-массив из смайликов\n",
    "    \n",
    "    image_name : str\n",
    "        | название картинки, png-файл для \n",
    "          которой будет сохранен в папку output/\n",
    "\n",
    "    emoji_resolution : int\n",
    "        | размер каждого смайлика на итоговой картинке\n",
    "          в пикселях (каждый смайлик рисуется в квадратной \n",
    "          области, и этот параметр задает сторону квадрата)\n",
    "\n",
    "    background_color : (int, int, int)\n",
    "        | цвет фона картинки в формате RGB\n",
    "    \"\"\"\n",
    "    # Высота и ширина массива из смайликов\n",
    "    emojis_h, emojis_w = emoji_array.shape\n",
    "    # Высота и ширина итоговой картинки из смайликов\n",
    "    img_h, img_w = np.array(emoji_array.shape) * emoji_resolution\n",
    "    \n",
    "    # Создание картинки из смайликов\n",
    "    with Image.new('RGB', (img_h, img_w), background_color) as image:\n",
    "        # Шрифт для отображения смайликов\n",
    "        font = ImageFont.truetype('fonts/arial.ttf', emoji_resolution)\n",
    "        # Рисование смайликов на картинке\n",
    "        with Pilmoji(image) as pilmoji:\n",
    "            for i in range(emojis_h):\n",
    "                for j in range(emojis_w):\n",
    "                    # Индексы пикселей в итоговой картинке\n",
    "                    h, w = i * emoji_resolution, j * emoji_resolution\n",
    "                    pilmoji.text((w, h), emoji_array[i, j], font=font)\n",
    "\n",
    "    image.save(f'output/{image_name}.png')"
   ]
  },
  {
   "cell_type": "markdown",
   "id": "173a5d20-c3e4-44ef-8011-5312eb6fab8e",
   "metadata": {},
   "source": [
    "# Рисование"
   ]
  },
  {
   "cell_type": "code",
   "execution_count": 61,
   "id": "99b9c24d-7906-4eaf-9a80-c2642d834d6f",
   "metadata": {},
   "outputs": [
    {
     "name": "stdout",
     "output_type": "stream",
     "text": [
      "Исходная картинка: 1080x1080\n",
      "Из смайликов:      50x50\n"
     ]
    },
    {
     "data": {
      "image/png": "[encoded data removed]",
      "text/plain": [
       "<Figure size 1280x960 with 2 Axes>"
      ]
     },
     "metadata": {},
     "output_type": "display_data"
    },
    {
     "name": "stdout",
     "output_type": "stream",
     "text": [
      "CPU times: user 10.2 s, sys: 365 ms, total: 10.6 s\n",
      "Wall time: 48.2 s\n"
     ]
    }
   ],
   "source": [
    "%%time\n",
    "\n",
    "# Рисование\n",
    "result = draw_emojis(filename='frog.png', \n",
    "                     width=50, \n",
    "                     emoji_dict=load_emoji_dict('classic_black'))\n",
    "\n",
    "# Сохранение результата\n",
    "save_as_text(result, 'frog')\n",
    "save_as_image(result, 'frog', emoji_resolution=50)\n",
    "\n",
    "print('Результаты сохранены в папку output/')"
   ]
  }
 ],
 "metadata": {
  "kernelspec": {
   "display_name": "Python 3 (ipykernel)",
   "language": "python",
   "name": "python3"
  },
  "language_info": {
   "codemirror_mode": {
    "name": "ipython",
    "version": 3
   },
   "file_extension": ".py",
   "mimetype": "text/x-python",
   "name": "python",
   "nbconvert_exporter": "python",
   "pygments_lexer": "ipython3",
   "version": "3.12.1"
  }
 },
 "nbformat": 4,
 "nbformat_minor": 5
}
