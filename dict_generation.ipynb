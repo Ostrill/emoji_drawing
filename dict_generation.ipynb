{
 "cells": [
  {
   "cell_type": "markdown",
   "id": "5f580750-fa64-4cf7-af7c-f4835ef426cd",
   "metadata": {},
   "source": [
    "# Импорт библиотек"
   ]
  },
  {
   "cell_type": "code",
   "execution_count": 1,
   "id": "11fd1f5c-688b-4ebb-a961-c3d348cbcf42",
   "metadata": {},
   "outputs": [],
   "source": [
    "from utils import load_emoji_list, create_emoji_dict\n",
    "import pickle"
   ]
  },
  {
   "cell_type": "markdown",
   "id": "80decf74-b1e9-4372-aaa1-2edc9c9c2f2f",
   "metadata": {},
   "source": [
    "# Создание словаря смайликов"
   ]
  },
  {
   "cell_type": "markdown",
   "id": "0c205cf1-7ca2-48f3-a6f4-9b2c94f6d9c3",
   "metadata": {},
   "source": [
    "Этот ноутбук предназначен для создания словарей смайликов:\n",
    "- `ключами` словаря служат сами смайлики;\n",
    "- `значения` словаря представляют собой кортежи из среднего цвета смайлика в RGB-формате (numpy-массив) и доли занимаемой смайликом площади в квадратной ячейке (float от 0 до 1).\n",
    "\n",
    "> Доля занимаемой площади нужна только для динамического окрашивания фона для каждого смайлика. Такая функция представлена в ноутбуке `dynamic_background.ipynb`.\n",
    "\n",
    "Для определения среднего цвета каждый смайлик отрисовывается в квадрате NxN пикселей, затем по всем пикселям получившейся картинки вычисляется среднее значение по каналам R, G и B:\n",
    "- за фон такой картинки отвечает параметр `background_color` (кортеж из трех значений RGB или None, если требуется прозрачный фон);\n",
    "- за длину стороны квадрата N отвечает параметр `emoji_resolution`.\n",
    "\n",
    "Пример словаря:\n",
    "```python\n",
    "{\n",
    "    '😀': (array([222.66, 178.25,  68.99]), 0.78),\n",
    "    '🐊': (array([ 93.66, 145.22,  61.83]), 0.33),\n",
    "    '☀️': (array([249.23, 169.30,  50.14]), 0.36),\n",
    "    '🍉': (array([193.92,  97.51,  84.73]), 0.39),\n",
    "    '🎲': (array([217.24,  82.27, 101.94]), 0.55),\n",
    "    '🇷🇺': (array([147.95, 106.95, 139.19]), 0.71)\n",
    "}\n",
    "```"
   ]
  },
  {
   "cell_type": "code",
   "execution_count": 2,
   "id": "5669bc95-347b-4e56-bd4f-b524990cf583",
   "metadata": {},
   "outputs": [],
   "source": [
    "# Название нового словаря смайликов (для сохранения)\n",
    "emoji_dict_name = 'moon_black'\n",
    "# Источник смайликов (файл из папки emoji_sources/)\n",
    "emoji_list_name= 'moon'"
   ]
  },
  {
   "cell_type": "code",
   "execution_count": 3,
   "id": "ff4f7165-b1ce-494f-aa41-fa6d423a9912",
   "metadata": {},
   "outputs": [
    {
     "name": "stdout",
     "output_type": "stream",
     "text": [
      "Построение словаря:  100.0% (8/8)\n",
      "Словарь moon_black создан и сохранен:\n",
      "🌕🌖🌗🌘🌑🌒🌓🌔...\n",
      "\n",
      "CPU times: user 770 ms, sys: 68.7 ms, total: 838 ms\n",
      "Wall time: 3.33 s\n"
     ]
    }
   ],
   "source": [
    "%%time\n",
    "\n",
    "# Создание словаря\n",
    "emoji_dict = create_emoji_dict(emojis=load_emoji_list(emoji_list_name), \n",
    "                               emoji_resolution=100,\n",
    "                               background_color=(0, 0, 0))\n",
    "\n",
    "# Сохранение словаря\n",
    "with open(f'emoji_dicts/{emoji_dict_name}.pkl', 'wb') as file:\n",
    "    pickle.dump(emoji_dict, file)\n",
    "\n",
    "# Вывод результатов\n",
    "print(f'Словарь {emoji_dict_name} создан и сохранен:')\n",
    "print(''.join(s for s in list(emoji_dict.keys())[:10]) + '...\\n')"
   ]
  }
 ],
 "metadata": {
  "kernelspec": {
   "display_name": "Python 3 (ipykernel)",
   "language": "python",
   "name": "python3"
  },
  "language_info": {
   "codemirror_mode": {
    "name": "ipython",
    "version": 3
   },
   "file_extension": ".py",
   "mimetype": "text/x-python",
   "name": "python",
   "nbconvert_exporter": "python",
   "pygments_lexer": "ipython3",
   "version": "3.12.1"
  }
 },
 "nbformat": 4,
 "nbformat_minor": 5
}
