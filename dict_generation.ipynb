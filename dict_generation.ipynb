{
 "cells": [
  {
   "cell_type": "markdown",
   "id": "5f580750-fa64-4cf7-af7c-f4835ef426cd",
   "metadata": {},
   "source": [
    "# Создание словаря из смайликов"
   ]
  },
  {
   "cell_type": "code",
   "execution_count": 1,
   "id": "11fd1f5c-688b-4ebb-a961-c3d348cbcf42",
   "metadata": {},
   "outputs": [],
   "source": [
    "from utils import load_emoji_list, create_emoji_dict\n",
    "import pickle\n",
    "import os"
   ]
  },
  {
   "cell_type": "markdown",
   "id": "0c205cf1-7ca2-48f3-a6f4-9b2c94f6d9c3",
   "metadata": {},
   "source": [
    "### Этот ноутбук предназначен для создания словарей смайликов:\n",
    "\n",
    "- `ключами` словаря служат сами смайлики;\n",
    "- `значения` словаря представляют собой кортежи из среднего цвета смайлика в RGB-формате (numpy-массив) и доли занимаемой смайликом площади в квадратной ячейке (float от 0 до 1).\n",
    "\n",
    "> Доля занимаемой площади нужна только для режима динамического окрашивания фона для каждого отдельного смайлика.\n",
    "\n",
    "> Для поддержки разных стилей смайликов создается общий словарь, в котором ключами служат названия стилей, а значениями - сами словари смайликов для данного стиля.\n",
    "\n",
    "Для определения среднего цвета каждый смайлик отрисовывается в квадрате NxN пикселей, затем по всем пикселям получившейся картинки вычисляется среднее значение по каналам R, G и B:\n",
    "- за фон такой картинки отвечает параметр `background_color` (кортеж из трех значений RGB или None, если требуется прозрачный фон);\n",
    "- за длину стороны квадрата N отвечает параметр `emoji_resolution`.\n",
    "\n",
    "Пример словаря:\n",
    "```python\n",
    "{\n",
    "    '😀': (array([222.66, 178.25,  68.99]), 0.78),\n",
    "    '🐊': (array([ 93.66, 145.22,  61.83]), 0.33),\n",
    "    '🍉': (array([193.92,  97.51,  84.73]), 0.39),\n",
    "    '🎲': (array([217.24,  82.27, 101.94]), 0.55),\n",
    "    '🇷🇺': (array([147.95, 106.95, 139.19]), 0.71)\n",
    "}\n",
    "```"
   ]
  },
  {
   "cell_type": "code",
   "execution_count": 2,
   "id": "5669bc95-347b-4e56-bd4f-b524990cf583",
   "metadata": {},
   "outputs": [],
   "source": [
    "# Название нового словаря смайликов (для сохранения)\n",
    "emoji_dict_name = 'moon_black'\n",
    "# Источник смайликов (файл из папки emoji_sources/)\n",
    "emoji_list_name= 'moon'"
   ]
  },
  {
   "cell_type": "code",
   "execution_count": 3,
   "id": "ff4f7165-b1ce-494f-aa41-fa6d423a9912",
   "metadata": {},
   "outputs": [
    {
     "name": "stdout",
     "output_type": "stream",
     "text": [
      "Построение словаря для стиля \"twitter\": 100.0%  (8/8)\n",
      "Построение словаря для стиля \"apple\": 100.0%  (8/8)\n",
      "Построение словаря для стиля \"google\": 100.0%  (8/8)\n",
      "Построение словаря для стиля \"facebook\": 100.0%  (8/8)\n",
      "Словарь \"moon_black\" создан и сохранен:\n",
      "🌕🌖🌗🌘🌑🌒🌓🌔...\n",
      "\n",
      "CPU times: user 3.71 s, sys: 172 ms, total: 3.88 s\n",
      "Wall time: 12.6 s\n"
     ]
    }
   ],
   "source": [
    "%%time\n",
    "\n",
    "# Создание словаря\n",
    "emoji_dict = create_emoji_dict(emojis=load_emoji_list(emoji_list_name), \n",
    "                               emoji_resolution=100,\n",
    "                               background_color=(0, 0, 0))\n",
    "\n",
    "# Сохранение словаря\n",
    "with open(f'emoji_dicts/{emoji_dict_name}.pkl', 'wb') as file:\n",
    "    pickle.dump(emoji_dict, file)\n",
    "\n",
    "# Вывод результатов\n",
    "print(f'Словарь \"{emoji_dict_name}\" создан и сохранен:')\n",
    "print(''.join(s for s in list(list(emoji_dict.values())[0].keys())[:10]) + '...\\n')"
   ]
  },
  {
   "cell_type": "markdown",
   "id": "8096bf62-ba4a-4236-a758-22a82b50f130",
   "metadata": {},
   "source": [
    "---"
   ]
  },
  {
   "cell_type": "markdown",
   "id": "ef2fb061-5e9e-4d4c-b666-e78e7c12c9a6",
   "metadata": {},
   "source": [
    "### Создание словарей из всех групп в папке *emoji_sources/*"
   ]
  },
  {
   "cell_type": "code",
   "execution_count": null,
   "id": "7aacfd1b-3b9d-49da-b4c4-a96679e67700",
   "metadata": {},
   "outputs": [],
   "source": [
    "%%time\n",
    "\n",
    "# Все группы смайликов, из папки emoji_sources в формате .txt\n",
    "groups = [os.path.splitext(filename)[0] \n",
    "          for filename in os.listdir('emoji_sources') \n",
    "          if filename.endswith('.txt')]\n",
    "\n",
    "# Цвета фона для смайликов\n",
    "background_colors = {'transparent': None, \n",
    "                     'black': (0, 0, 0), \n",
    "                     'white': (255, 255, 255)}\n",
    "\n",
    "print('Найдены следующие группы смайликов:')\n",
    "print(', '.join(groups), '\\n')\n",
    "\n",
    "# Перебор всех вариантов\n",
    "for group in groups:\n",
    "    for mode, background_color in background_colors.items():\n",
    "        # Название нового словаря смайликов (для сохранения)\n",
    "        emoji_dict_name = f'{group}_{mode}'\n",
    "        \n",
    "        print(f'{mode}-версия словаря для группы \"{group}\":')\n",
    "        \n",
    "        # Создание словаря\n",
    "        emoji_dict = create_emoji_dict(emojis=load_emoji_list(group), \n",
    "                                       emoji_resolution=100,\n",
    "                                       background_color=background_color)\n",
    "        \n",
    "        # Сохранение словаря\n",
    "        with open(f'emoji_dicts/{emoji_dict_name}.pkl', 'wb') as file:\n",
    "            pickle.dump(emoji_dict, file)\n",
    "        \n",
    "        # Вывод результатов\n",
    "        print(f'Словарь \"{emoji_dict_name}\" создан и сохранен:')\n",
    "        print(''.join(s for s in list(list(emoji_dict.values())[0].keys())[:10]) + '...\\n')"
   ]
  }
 ],
 "metadata": {
  "kernelspec": {
   "display_name": "Python 3 (ipykernel)",
   "language": "python",
   "name": "python3"
  },
  "language_info": {
   "codemirror_mode": {
    "name": "ipython",
    "version": 3
   },
   "file_extension": ".py",
   "mimetype": "text/x-python",
   "name": "python",
   "nbconvert_exporter": "python",
   "pygments_lexer": "ipython3",
   "version": "3.12.1"
  }
 },
 "nbformat": 4,
 "nbformat_minor": 5
}
