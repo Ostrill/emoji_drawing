{
 "cells": [
  {
   "cell_type": "markdown",
   "id": "5f580750-fa64-4cf7-af7c-f4835ef426cd",
   "metadata": {},
   "source": [
    "# Импорт библиотек"
   ]
  },
  {
   "cell_type": "code",
   "execution_count": 1,
   "id": "11fd1f5c-688b-4ebb-a961-c3d348cbcf42",
   "metadata": {},
   "outputs": [],
   "source": [
    "from PIL import Image, ImageDraw, ImageFont\n",
    "from pilmoji import Pilmoji\n",
    "import numpy as np\n",
    "import pickle"
   ]
  },
  {
   "cell_type": "markdown",
   "id": "c23a5d6d-09d7-4ee2-bc07-266450f8cfb0",
   "metadata": {},
   "source": [
    "# Методы для создания словарей смайликов"
   ]
  },
  {
   "cell_type": "code",
   "execution_count": 11,
   "id": "7af79e3f-b233-4050-93e7-b6a433fb6a9b",
   "metadata": {},
   "outputs": [],
   "source": [
    "def create_emoji_dict(emojis, \n",
    "                      background_color=(0, 0, 0),\n",
    "                      emoji_resolution=100, \n",
    "                      disp=True):\n",
    "    \"\"\"\n",
    "    Создать словарь смайликов, где каждому смайлику\n",
    "    соответствует подходящий ему цвет\n",
    "\n",
    "    PARAMETERS\n",
    "    ----------\n",
    "    emojis : \n",
    "        | список (list) из смайликов, из которых\n",
    "          создается словарь\n",
    "    \n",
    "    background_color : \n",
    "        | фоновый цвет для смайликов\n",
    "    \n",
    "    emoji_resolution : \n",
    "        | каждый смайлик рассматривается как квадрат,\n",
    "          этот параметр задает размер стороны квадрата.\n",
    "          Влияет на точность определения среднего цвета\n",
    "          смайлика, рекомендуется просто оставить 100\n",
    "    \n",
    "    disp : \n",
    "        | выводить ли прогресс создания словаря\n",
    "          (шкала в процентах)\n",
    "    \"\"\"\n",
    "    emoji_dict = {}\n",
    "\n",
    "    # Цикл по всем смайликам\n",
    "    for i, emoji in enumerate(emojis, 1):\n",
    "        # Создание новой картинки со смайликом\n",
    "        with Image.new('RGB', (emoji_resolution, emoji_resolution), \n",
    "                       background_color) as image:\n",
    "            # Шрифт для отображения смайлика\n",
    "            font = ImageFont.truetype('arial.ttf', emoji_resolution)\n",
    "            # Рисование смайлика на картинке\n",
    "            with Pilmoji(image) as pilmoji:\n",
    "                pilmoji.text((0, 0), emoji, font=font)\n",
    "\n",
    "        # Вычисление среднего цвета получившейся картинки смайлика\n",
    "        avg_color = np.array(image).mean(axis=(0, 1))\n",
    "        emoji_dict[emoji] = avg_color\n",
    "\n",
    "        # Вывод прогресса\n",
    "        if disp:\n",
    "            progress = round(i / len(emojis) * 100, 2)\n",
    "            print(f'\\rВыполнено: {progress:>6}% ({i}/{len(emojis)})', end='')\n",
    "\n",
    "    if disp:\n",
    "        print()\n",
    "\n",
    "    return emoji_dict"
   ]
  },
  {
   "cell_type": "code",
   "execution_count": 3,
   "id": "cae91848-a436-409a-8e5d-4e853bb70f36",
   "metadata": {},
   "outputs": [],
   "source": [
    "def load_emojis(name):\n",
    "    \"\"\"\n",
    "    Загрузить список из смайликов, лежащий в\n",
    "    папке emoji_sources/\n",
    "    \"\"\"\n",
    "    with open(f'emoji_sources/{name}.txt', 'r') as file:\n",
    "        emoji_list = [line.strip() for line in file]\n",
    "    return emoji_list"
   ]
  },
  {
   "cell_type": "markdown",
   "id": "80decf74-b1e9-4372-aaa1-2edc9c9c2f2f",
   "metadata": {},
   "source": [
    "# Создание словаря смайликов"
   ]
  },
  {
   "cell_type": "code",
   "execution_count": 24,
   "id": "ff4f7165-b1ce-494f-aa41-fa6d423a9912",
   "metadata": {},
   "outputs": [
    {
     "name": "stdout",
     "output_type": "stream",
     "text": [
      "Выполнено:  100.0% (8/8)\n",
      "Словарь создан и сохранен:\n",
      "🌕🌖🌗🌘🌑🌒🌓🌔...\n",
      "CPU times: user 900 ms, sys: 42 ms, total: 942 ms\n",
      "Wall time: 3.19 s\n"
     ]
    }
   ],
   "source": [
    "%%time\n",
    "\n",
    "# Название нового словаря смайликов\n",
    "emoji_dict_name = 'moon_black'\n",
    "# Источник смайликов (файл из папки emoji_sources/)\n",
    "emoji_source = 'moon_emojis'\n",
    "# Фоновый цвет смайликов\n",
    "background_color = (0, 0, 0)\n",
    "\n",
    "# Создание словаря\n",
    "emoji_dict = create_emoji_dict(emojis=load_emojis(emoji_source), \n",
    "                               background_color=background_color)\n",
    "\n",
    "# Сохранение словаря смайликов\n",
    "with open(f'emoji_dicts/{emoji_dict_name}.pkl', 'wb') as file:\n",
    "    pickle.dump(emoji_dict, file)\n",
    "\n",
    "# Вывод результатов\n",
    "print('Словарь создан и сохранен:')\n",
    "print(''.join(s for s in list(emoji_dict.keys())[:10]) + '...')\n",
    "# [print(k, ':', v) for k, v in list(emoji_dict.items())[:10]]\n",
    "# print('...')"
   ]
  },
  {
   "cell_type": "code",
   "execution_count": 23,
   "id": "60598350-1697-4014-8bf8-650b4c1daa63",
   "metadata": {},
   "outputs": [
    {
     "data": {
      "text/plain": [
       "array([201.9488, 170.4801,  97.1925])"
      ]
     },
     "execution_count": 23,
     "metadata": {},
     "output_type": "execute_result"
    }
   ],
   "source": [
    "emoji_dict['🌕']"
   ]
  },
  {
   "cell_type": "code",
   "execution_count": 20,
   "id": "101edf99-1c0b-4061-a947-0f92e02a7a4f",
   "metadata": {},
   "outputs": [
    {
     "name": "stdout",
     "output_type": "stream",
     "text": [
      "{'🌕': None, '🌖': None, '🌗': None}\n"
     ]
    }
   ],
   "source": [
    "print(emoji_dict.fromkeys(list(emoji_dict.keys())[:3]))"
   ]
  }
 ],
 "metadata": {
  "kernelspec": {
   "display_name": "Python 3 (ipykernel)",
   "language": "python",
   "name": "python3"
  },
  "language_info": {
   "codemirror_mode": {
    "name": "ipython",
    "version": 3
   },
   "file_extension": ".py",
   "mimetype": "text/x-python",
   "name": "python",
   "nbconvert_exporter": "python",
   "pygments_lexer": "ipython3",
   "version": "3.12.1"
  }
 },
 "nbformat": 4,
 "nbformat_minor": 5
}
