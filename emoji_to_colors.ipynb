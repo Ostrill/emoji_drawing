{
 "cells": [
  {
   "cell_type": "code",
   "execution_count": 109,
   "id": "11fd1f5c-688b-4ebb-a961-c3d348cbcf42",
   "metadata": {},
   "outputs": [],
   "source": [
    "from PIL import Image, ImageDraw, ImageFont\n",
    "from pilmoji import Pilmoji\n",
    "import numpy as np\n",
    "import pickle"
   ]
  },
  {
   "cell_type": "code",
   "execution_count": 103,
   "id": "4c3c324a-68d7-4b07-8dd2-008f67e54f92",
   "metadata": {},
   "outputs": [],
   "source": [
    "emoji_source = 'lite_emojis'\n",
    "background_color = (0, 0, 0)\n",
    "emoji_resolution = 100\n",
    "emoji_dict_name = 'lite_black'"
   ]
  },
  {
   "cell_type": "code",
   "execution_count": 104,
   "id": "309049de-8198-4bd2-b6ca-6590a8181410",
   "metadata": {},
   "outputs": [],
   "source": [
    "with open(f'emoji_sources/{emoji_source}.txt', 'r') as file:\n",
    "    emoji_list = [line.strip() for line in file]"
   ]
  },
  {
   "cell_type": "code",
   "execution_count": 108,
   "id": "5a808201-45a9-4caf-87ee-fb38a400d558",
   "metadata": {},
   "outputs": [
    {
     "name": "stdout",
     "output_type": "stream",
     "text": [
      " 100.0% (515/515)\n",
      "CPU times: user 1min 19s, sys: 2.88 s, total: 1min 22s\n",
      "Wall time: 5min 24s\n"
     ]
    }
   ],
   "source": [
    "%%time\n",
    "\n",
    "emoji_dict = {}\n",
    "\n",
    "for i, emoji in enumerate(emoji_list, 1):\n",
    "    with Image.new('RGB', (emoji_resolution, emoji_resolution), \n",
    "                   background_color) as image:\n",
    "        font = ImageFont.truetype('arial.ttf', emoji_resolution)\n",
    "        with Pilmoji(image) as pilmoji:\n",
    "            pilmoji.text((0, 0), emoji, font=font)\n",
    "    image_np = np.array(image)\n",
    "    avg_color = image_np.mean(axis=(0, 1))\n",
    "    emoji_dict[emoji] = avg_color\n",
    "\n",
    "    progress = round(i / len(emoji_list) * 100, 2)\n",
    "    print(f'Выполнено: \\r{progress:>6}% ({i}/{len(emoji_list)})', end='')\n",
    "\n",
    "print()"
   ]
  },
  {
   "cell_type": "code",
   "execution_count": 111,
   "id": "101edf99-1c0b-4061-a947-0f92e02a7a4f",
   "metadata": {},
   "outputs": [],
   "source": [
    "# Сохранение словаря смайликов\n",
    "with open(f'emoji_dicts/{emoji_dict_name}.pkl', 'wb') as file:\n",
    "    pickle.dump(emoji_dict, file)"
   ]
  }
 ],
 "metadata": {
  "kernelspec": {
   "display_name": "Python 3 (ipykernel)",
   "language": "python",
   "name": "python3"
  },
  "language_info": {
   "codemirror_mode": {
    "name": "ipython",
    "version": 3
   },
   "file_extension": ".py",
   "mimetype": "text/x-python",
   "name": "python",
   "nbconvert_exporter": "python",
   "pygments_lexer": "ipython3",
   "version": "3.12.1"
  }
 },
 "nbformat": 4,
 "nbformat_minor": 5
}
